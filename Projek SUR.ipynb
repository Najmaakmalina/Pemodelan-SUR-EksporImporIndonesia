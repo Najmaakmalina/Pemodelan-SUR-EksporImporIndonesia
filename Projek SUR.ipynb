{
 "cells": [
  {
   "cell_type": "code",
   "execution_count": null,
   "metadata": {},
   "outputs": [
    {
     "name": "stdout",
     "output_type": "stream",
     "text": [
      "                           System GLS Estimation Summary                           \n",
      "===================================================================================\n",
      "Estimator:                        GLS   Overall R-squared:                   0.9984\n",
      "No. Equations.:                     4   McElroy's R-squared:                 1.0000\n",
      "No. Observations:                  69   Judge's (OLS) R-squared:             0.9664\n",
      "Date:                Sun, Nov 17 2024   Berndt's R-squared:                  1.0000\n",
      "Time:                        14:33:20   Dhrymes's R-squared:                 0.9986\n",
      "                                        Cov. Estimator:                      robust\n",
      "                                        Num. Constraints:                      None\n",
      "           Equation: Total_Ekspor, Dependent Variable: Total_Ekspor           \n",
      "==============================================================================\n",
      "            Parameter  Std. Err.     T-stat    P-value    Lower CI    Upper CI\n",
      "------------------------------------------------------------------------------\n",
      "IDR_to_USD -9.474e-08  1.686e-07    -0.5619     0.5742  -4.252e-07   2.357e-07\n",
      "MIGAS          1.0000  2.764e-06  3.618e+05     0.0000      1.0000      1.0000\n",
      "NON_MIGAS      1.0000  1.803e-07  5.547e+06     0.0000      1.0000      1.0000\n",
      "               Equation: NON_MIGAS, Dependent Variable: NON_MIGAS              \n",
      "===============================================================================\n",
      "             Parameter  Std. Err.     T-stat    P-value    Lower CI    Upper CI\n",
      "-------------------------------------------------------------------------------\n",
      "Agriculture     1.5121     0.3016     5.0132     0.0000      0.9209      2.1033\n",
      "Industry        0.9770     0.0144     67.771     0.0000      0.9487      1.0052\n",
      "Mining          0.8758     0.0231     37.848     0.0000      0.8305      0.9212\n",
      "Others         -9.0936     5.3558    -1.6979     0.0895     -19.591      1.4035\n",
      "IDR_to_USD     -0.0284     0.0077    -3.6821     0.0002     -0.0435     -0.0133\n",
      "                 Equation: Total_Impor, Dependent Variable: Total_Impor                 \n",
      "========================================================================================\n",
      "                      Parameter  Std. Err.     T-stat    P-value    Lower CI    Upper CI\n",
      "----------------------------------------------------------------------------------------\n",
      "Consumption_Goods        1.0000  2.424e-06  4.125e+05     0.0000      1.0000      1.0000\n",
      "Raw_Material_Support     1.0000  5.274e-07  1.896e+06     0.0000      1.0000      1.0000\n",
      "Capital_Goods            1.0000  1.828e-06  5.469e+05     0.0000      1.0000      1.0000\n",
      "IDR_to_USD             3.27e-08  1.722e-07     0.1899     0.8494  -3.048e-07   3.702e-07\n",
      "       Equation: Raw_Material_Support, Dependent Variable: Raw_Material_Support      \n",
      "=====================================================================================\n",
      "                   Parameter  Std. Err.     T-stat    P-value    Lower CI    Upper CI\n",
      "-------------------------------------------------------------------------------------\n",
      "Consumption_Goods     2.7048     0.5957     4.5406     0.0000      1.5372      3.8723\n",
      "Capital_Goods         2.3474     0.3671     6.3943     0.0000      1.6279      3.0670\n",
      "IDR_to_USD            0.1095     0.0512     2.1384     0.0325      0.0091      0.2098\n",
      "=====================================================================================\n",
      "\n",
      "Covariance Estimator:\n",
      "Heteroskedastic (Robust) Covariance (Debiased: False, GLS: True)\n"
     ]
    }
   ],
   "source": [
    "import numpy as np\n",
    "import pandas as pd\n",
    "from linearmodels.system import SUR\n",
    "\n",
    "# Simulasi data sesuai data yang disediakan oleh user\n",
    "data = pd.read_excel(\"D:/E/PENS/Semester5/Ekonometrika Terapan/Data_ekpor_impor_USD.xlsx\")\n",
    "\n",
    "# Buat dataframe dari data\n",
    "df = pd.DataFrame(data)\n",
    "\n",
    "# Definisikan persamaan SUR\n",
    "equations = {\n",
    "    \"Total_Ekspor\": \"Total_Ekspor ~ IDR_to_USD + MIGAS + NON_MIGAS\",\n",
    "    \"NON_MIGAS\": \"NON_MIGAS ~ Agriculture + Industry + Mining + Others + IDR_to_USD\",\n",
    "    \"Total_Impor\": \"Total_Impor ~ Consumption_Goods + Raw_Material_Support + Capital_Goods + IDR_to_USD\",\n",
    "    \"Raw_Material_Support\": \"Raw_Material_Support ~ Consumption_Goods + Capital_Goods + IDR_to_USD\"\n",
    "}\n",
    "\n",
    "# Buat dan fit model SUR\n",
    "model = SUR.from_formula(equations, df)\n",
    "result = model.fit()\n",
    "\n",
    "# Cetak ringkasan hasil\n",
    "print(result.summary)\n"
   ]
  },
  {
   "cell_type": "code",
   "execution_count": 22,
   "metadata": {},
   "outputs": [
    {
     "name": "stdout",
     "output_type": "stream",
     "text": [
      "               Variable           VIF\n",
      "0            IDR_to_USD  5.776144e+01\n",
      "1                 MIGAS  2.517011e+10\n",
      "2             NON_MIGAS  6.541176e+12\n",
      "3           Agriculture  2.695965e+09\n",
      "4              Industry  4.181615e+12\n",
      "5                Mining  3.966531e+11\n",
      "6                Others  1.108390e+05\n",
      "7     Consumption_Goods  9.125056e+01\n",
      "8  Raw_Material_Support  2.356747e+02\n",
      "9         Capital_Goods  1.127650e+02\n"
     ]
    }
   ],
   "source": [
    "from statsmodels.stats.outliers_influence import variance_inflation_factor\n",
    "\n",
    "# Buat dataframe hanya dengan variabel independen\n",
    "independent_vars = df[['IDR_to_USD', 'MIGAS', 'NON_MIGAS', 'Agriculture', 'Industry', 'Mining', 'Others', 'Consumption_Goods', 'Raw_Material_Support', 'Capital_Goods']]\n",
    "\n",
    "# Hitung VIF untuk setiap variabel independen\n",
    "vif_data = pd.DataFrame()\n",
    "vif_data['Variable'] = independent_vars.columns\n",
    "vif_data['VIF'] = [variance_inflation_factor(independent_vars.values, i) for i in range(independent_vars.shape[1])]\n",
    "\n",
    "print(vif_data)\n"
   ]
  },
  {
   "cell_type": "markdown",
   "metadata": {},
   "source": [
    "UJi HETEROSKEDASTISITAS"
   ]
  },
  {
   "cell_type": "code",
   "execution_count": 23,
   "metadata": {},
   "outputs": [
    {
     "name": "stdout",
     "output_type": "stream",
     "text": [
      "{'Lagrange multiplier statistic': np.float64(1.4598072004505729), 'p-value': np.float64(0.6915773824764916), 'f-value': np.float64(0.4683012395838666), 'f p-value': np.float64(0.7054079149544173)}\n"
     ]
    }
   ],
   "source": [
    "from statsmodels.stats.diagnostic import het_breuschpagan\n",
    "import statsmodels.api as sm\n",
    "\n",
    "# Ambil residual dari persamaan Total_Ekspor\n",
    "residuals = result.resids['Total_Ekspor']\n",
    "\n",
    "# Tambahkan konstanta ke variabel independen dalam persamaan\n",
    "exog = sm.add_constant(df[['IDR_to_USD', 'MIGAS', 'NON_MIGAS']])\n",
    "\n",
    "# Lakukan uji Breusch-Pagan\n",
    "bp_test = het_breuschpagan(residuals, exog)\n",
    "labels = ['Lagrange multiplier statistic', 'p-value', 'f-value', 'f p-value']\n",
    "print(dict(zip(labels, bp_test)))\n"
   ]
  },
  {
   "cell_type": "markdown",
   "metadata": {},
   "source": [
    " Uji Autokorelas"
   ]
  },
  {
   "cell_type": "code",
   "execution_count": 24,
   "metadata": {},
   "outputs": [
    {
     "name": "stdout",
     "output_type": "stream",
     "text": [
      "Durbin-Watson stat for Total_Ekspor: 2.029327033760584\n",
      "Durbin-Watson stat for NON_MIGAS: 1.389778815369028\n",
      "Durbin-Watson stat for Total_Impor: 2.3433642340138303\n",
      "Durbin-Watson stat for Raw_Material_Support: 0.3863043828299623\n"
     ]
    }
   ],
   "source": [
    "from statsmodels.stats.stattools import durbin_watson\n",
    "\n",
    "# Hitung Durbin-Watson untuk residual setiap persamaan\n",
    "for eq_name in result.resids:\n",
    "    dw_stat = durbin_watson(result.resids[eq_name])\n",
    "    print(f'Durbin-Watson stat for {eq_name}: {dw_stat}')\n"
   ]
  },
  {
   "cell_type": "markdown",
   "metadata": {},
   "source": [
    "4. Uji Normalitas Residual"
   ]
  },
  {
   "cell_type": "code",
   "execution_count": 25,
   "metadata": {},
   "outputs": [
    {
     "name": "stdout",
     "output_type": "stream",
     "text": [
      "Jarque-Bera stat for Total_Ekspor: 2.6913974832191907, p-value: 0.26035772151326286\n",
      "Jarque-Bera stat for NON_MIGAS: 2.598666021286648, p-value: 0.27271362947406586\n",
      "Jarque-Bera stat for Total_Impor: 3.012910063791412, p-value: 0.2216944864924649\n",
      "Jarque-Bera stat for Raw_Material_Support: 7.210898062982843, p-value: 0.02717523953464324\n"
     ]
    }
   ],
   "source": [
    "from statsmodels.stats.stattools import jarque_bera\n",
    "\n",
    "# Melakukan uji Jarque-Bera untuk setiap persamaan dalam model SUR\n",
    "for eq_name in result.resids:\n",
    "    jb_stat, jb_pvalue, skew, kurtosis = jarque_bera(result.resids[eq_name])\n",
    "    print(f'Jarque-Bera stat for {eq_name}: {jb_stat}, p-value: {jb_pvalue}')\n"
   ]
  },
  {
   "cell_type": "markdown",
   "metadata": {},
   "source": [
    "### Korelasi residual dari setiap persamaan"
   ]
  },
  {
   "cell_type": "code",
   "execution_count": 26,
   "metadata": {},
   "outputs": [
    {
     "name": "stdout",
     "output_type": "stream",
     "text": [
      "Hasil Uji Breusch-Pagan:\n",
      "Breusch-Pagan Statistic: 16.2680\n",
      "Degrees of Freedom: 6\n",
      "P-value: 0.0124\n",
      "Terdapat korelasi residual antar persamaan (tolak H0).\n"
     ]
    }
   ],
   "source": [
    "import numpy as np\n",
    "from scipy.stats import chi2\n",
    "\n",
    "# Ambil matriks kovarian residual dari hasil model SUR\n",
    "cov_matrix = result.sigma  # Matriks kovarian residual\n",
    "n_obs = result.nobs  # Jumlah observasi\n",
    "equation_labels = result.equation_labels  # Label persamaan dalam sistem\n",
    "m_eq = len(equation_labels)  # Jumlah persamaan dalam sistem\n",
    "\n",
    "# Hitung statistik Breusch-Pagan\n",
    "bp_stat = 0\n",
    "for i in range(m_eq):\n",
    "    for j in range(i + 1, m_eq):\n",
    "        eq_i = equation_labels[i]  # Label persamaan i\n",
    "        eq_j = equation_labels[j]  # Label persamaan j\n",
    "\n",
    "        # Elemen non-diagonal\n",
    "        cov_ij = cov_matrix.loc[eq_i, eq_j]  # Kovarian residual antar persamaan\n",
    "        var_i = cov_matrix.loc[eq_i, eq_i]  # Variansi residual persamaan i\n",
    "        var_j = cov_matrix.loc[eq_j, eq_j]  # Variansi residual persamaan j\n",
    "\n",
    "        # Korelasi residual\n",
    "        rho_ij = cov_ij / np.sqrt(var_i * var_j)\n",
    "        bp_stat += n_obs * rho_ij**2\n",
    "\n",
    "# Derajat kebebasan\n",
    "df = int(m_eq * (m_eq - 1) / 2)\n",
    "\n",
    "# Nilai p-value\n",
    "p_value = 1 - chi2.cdf(bp_stat, df)\n",
    "\n",
    "# Hasil uji BP\n",
    "print(\"Hasil Uji Breusch-Pagan:\")\n",
    "print(f\"Breusch-Pagan Statistic: {bp_stat:.4f}\")\n",
    "print(f\"Degrees of Freedom: {df}\")\n",
    "print(f\"P-value: {p_value:.4f}\")\n",
    "\n",
    "# Interpretasi\n",
    "if p_value < 0.05:\n",
    "    print(\"Terdapat korelasi residual antar persamaan (tolak H0).\")\n",
    "else:\n",
    "    print(\"Tidak terdapat korelasi residual antar persamaan (gagal tolak H0).\")\n"
   ]
  }
 ],
 "metadata": {
  "kernelspec": {
   "display_name": "Python 3",
   "language": "python",
   "name": "python3"
  },
  "language_info": {
   "codemirror_mode": {
    "name": "ipython",
    "version": 3
   },
   "file_extension": ".py",
   "mimetype": "text/x-python",
   "name": "python",
   "nbconvert_exporter": "python",
   "pygments_lexer": "ipython3",
   "version": "3.11.9"
  }
 },
 "nbformat": 4,
 "nbformat_minor": 2
}
